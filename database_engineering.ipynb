{
 "cells": [
  {
   "cell_type": "code",
   "execution_count": 27,
   "metadata": {
    "collapsed": true
   },
   "outputs": [],
   "source": [
    "import pandas as pd"
   ]
  },
  {
   "cell_type": "code",
   "execution_count": 28,
   "metadata": {
    "collapsed": true
   },
   "outputs": [],
   "source": [
    "#read in the clean csv files\n",
    "complete_homecare_df=pd.read_csv(\"Resources/homecare_census_merged.csv\")"
   ]
  },
  {
   "cell_type": "code",
   "execution_count": 29,
   "metadata": {
    "collapsed": true
   },
   "outputs": [],
   "source": [
    "complete_homecare_df.columns=complete_homecare_df.columns.str.replace(\" \", \"\",case=True)"
   ]
  },
  {
   "cell_type": "code",
   "execution_count": 30,
   "metadata": {},
   "outputs": [
    {
     "data": {
      "text/plain": [
       "Index(['country', 'state', 'abbv', 'county', 'city', 'address', 'zipcode_x',\n",
       "       'loc_no', 'name', 'cer_no', 'date_cer', 'ownership', 'lrd', 'ncs',\n",
       "       'pts', 'sps', 'hhas', 'sq', 'sqr', 'c_sqr', 'latitude', 'longitude',\n",
       "       'zipcode_y', 'Population', 'Male', 'Female', 'MedianAge', 'Race',\n",
       "       'PovertyCount', 'PovertyRate', 'HouseholdIncome', 'PerCapitaIncome',\n",
       "       'UnemploymentCount', 'UnemploymentRate', 'Totalhousingunits',\n",
       "       'Medianyearstructurebuilt', 'MedianValueforHousingUnits',\n",
       "       'Whitealonerace', 'BlackorAfricanAmericanalone',\n",
       "       'AmericanIndianandAlaskaNativealone', 'Asianalone',\n",
       "       'Someotherracealone'],\n",
       "      dtype='object')"
      ]
     },
     "execution_count": 30,
     "metadata": {},
     "output_type": "execute_result"
    }
   ],
   "source": [
    "complete_homecare_df.columns"
   ]
  },
  {
   "cell_type": "code",
   "execution_count": 31,
   "metadata": {
    "collapsed": true
   },
   "outputs": [],
   "source": [
    "complete_homecare_df.date_cer=pd.to_datetime(complete_homecare_df.date_cer)\n",
    "complete_homecare_df.lrd=pd.to_datetime(complete_homecare_df.lrd)"
   ]
  },
  {
   "cell_type": "code",
   "execution_count": 32,
   "metadata": {
    "collapsed": true
   },
   "outputs": [],
   "source": [
    "#Dependencies for connecting to DBs\n",
    "from sqlalchemy import create_engine\n",
    "from sqlalchemy_utils import database_exists, create_database\n",
    "\n",
    "# Imports the methods needed to abstract classes into tables\n",
    "from sqlalchemy.ext.declarative import declarative_base\n",
    "\n",
    "# create base\n",
    "Base = declarative_base()\n",
    "\n",
    "#data types from scqalchemy\n",
    "from sqlalchemy import Column, Integer, String, Float, Date"
   ]
  },
  {
   "cell_type": "code",
   "execution_count": 33,
   "metadata": {
    "collapsed": true
   },
   "outputs": [],
   "source": [
    "# create ORM base classes\n",
    "class Homecares(Base):\n",
    "    __tablename__ = 'homecare'\n",
    "    cer_no = Column(Integer, primary_key=True)\n",
    "    country  = Column(String(255))\n",
    "    state  = Column(String(255))\n",
    "    abbv  = Column(String(255))\n",
    "    county  = Column(String(255))\n",
    "    city  = Column(String(255))\n",
    "    address  = Column(String)\n",
    "    zipcode_x  = Column(String(255))\n",
    "    loc_no  = Column(Integer)\n",
    "    name  = Column(String(255))\n",
    "    date_cer  = Column(Date)\n",
    "    ownership  = Column(String(255))\n",
    "    lrd  = Column(Date)\n",
    "    ncs  = Column(String(255))\n",
    "    pts  = Column(String(255))\n",
    "    sps  = Column(String(255))\n",
    "    hhas  = Column(String(255))\n",
    "    sq  = Column(String(255))\n",
    "    sqr  = Column(String(255))\n",
    "    c_sqr  = Column(Integer)\n",
    "    latitude  = Column(String(255))\n",
    "    longitude  = Column(String(255))\n",
    "    zipcode_y  = Column(String(255))\n",
    "    Population  = Column(Integer)\n",
    "    Male  = Column(String(255))\n",
    "    Female  = Column(String(255))\n",
    "    MedianAge  = Column(Integer)\n",
    "    Race  = Column(Integer)\n",
    "    PovertyCount  = Column(Integer)\n",
    "    PovertyRate  = Column(Integer)\n",
    "    HouseholdIncome  = Column(Float)\n",
    "    PerCapitaIncome  = Column(Float)\n",
    "    UnemploymentCount  = Column(Float)\n",
    "    UnemploymentRate  = Column(Float)\n",
    "    Totalhousingunits  = Column(Float)\n",
    "    Medianyearstructurebuilt  = Column(Float)\n",
    "    MedianValueforHousingUnits  = Column(Float)\n",
    "    Whitealonerace  = Column(Float)\n",
    "    BlackorAfricanAmericanalone  = Column(Float)\n",
    "    AmericanIndianandAlaskaNativealone  = Column(Float)\n",
    "    Asianalone  = Column(Float)\n",
    "    Someotherracealone= Column(Float)\n"
   ]
  },
  {
   "cell_type": "code",
   "execution_count": 34,
   "metadata": {
    "collapsed": true
   },
   "outputs": [],
   "source": [
    "#create sqlite engine\n",
    "engine = create_engine(\"sqlite:///homecare.db\")"
   ]
  },
  {
   "cell_type": "code",
   "execution_count": 35,
   "metadata": {
    "collapsed": true
   },
   "outputs": [],
   "source": [
    "#add metadata to tables\n",
    "Base.metadata.create_all(engine)"
   ]
  },
  {
   "cell_type": "code",
   "execution_count": 36,
   "metadata": {
    "collapsed": true
   },
   "outputs": [],
   "source": [
    "#append data from csv created df to corresponfing ORM classes(tables)\n",
    "complete_homecare_df.to_sql(\"homecare\",engine, if_exists=\"append\",index=False)"
   ]
  },
  {
   "cell_type": "code",
   "execution_count": 37,
   "metadata": {
    "collapsed": true
   },
   "outputs": [],
   "source": [
    "# To push the objects made to the server\n",
    "from sqlalchemy.orm import Session\n",
    "session = Session(bind=engine)"
   ]
  },
  {
   "cell_type": "code",
   "execution_count": 38,
   "metadata": {
    "collapsed": true
   },
   "outputs": [],
   "source": [
    "# Commit the data appending to the database\n",
    "session.commit()"
   ]
  },
  {
   "cell_type": "code",
   "execution_count": null,
   "metadata": {
    "collapsed": true
   },
   "outputs": [],
   "source": []
  }
 ],
 "metadata": {
  "kernelspec": {
   "display_name": "Python [conda root]",
   "language": "python",
   "name": "conda-root-py"
  },
  "language_info": {
   "codemirror_mode": {
    "name": "ipython",
    "version": 3
   },
   "file_extension": ".py",
   "mimetype": "text/x-python",
   "name": "python",
   "nbconvert_exporter": "python",
   "pygments_lexer": "ipython3",
   "version": "3.6.3"
  }
 },
 "nbformat": 4,
 "nbformat_minor": 2
}
